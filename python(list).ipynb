{
 "cells": [
  {
   "cell_type": "code",
   "execution_count": 2,
   "id": "755ad179-282e-4cbb-b980-82a997904c19",
   "metadata": {},
   "outputs": [
    {
     "name": "stdin",
     "output_type": "stream",
     "text": [
      "n= 8\n"
     ]
    },
    {
     "name": "stdout",
     "output_type": "stream",
     "text": [
      "[1, 3, 5, 7]\n"
     ]
    }
   ],
   "source": [
    "#1\n",
    "n = int(input('n='))\n",
    "toq_s = []\n",
    "for i in range(1, n+1, 2):\n",
    "    toq_s.append(i)\n",
    "print(toq_s)"
   ]
  },
  {
   "cell_type": "code",
   "execution_count": 3,
   "id": "00d87adc-b219-4564-b28c-c687176eb478",
   "metadata": {},
   "outputs": [
    {
     "name": "stdin",
     "output_type": "stream",
     "text": [
      "n= 4\n"
     ]
    },
    {
     "name": "stdout",
     "output_type": "stream",
     "text": [
      "[1, 2, 4, 8, 16]\n"
     ]
    }
   ],
   "source": [
    "#2\n",
    "n = int(input('n='))\n",
    "sonlar = []\n",
    "for i in range(n+1):\n",
    "    sonlar.append(2**i)\n",
    "print(sonlar)"
   ]
  },
  {
   "cell_type": "code",
   "execution_count": 7,
   "id": "8d92d85d-3621-4507-b772-97aafeb72fa9",
   "metadata": {},
   "outputs": [
    {
     "name": "stdin",
     "output_type": "stream",
     "text": [
      "n= 9\n"
     ]
    },
    {
     "name": "stdout",
     "output_type": "stream",
     "text": [
      "[2, 3, 4, 5, 6, 7, 8, 9, 10]\n"
     ]
    }
   ],
   "source": [
    "#3\n",
    "A = 2\n",
    "D = 1\n",
    "n = int(input('n='))\n",
    "sonlar = [A]\n",
    "for i in range(2, n+1):\n",
    "    sonlar.append(A+(i-1)*D)\n",
    "print(sonlar)"
   ]
  },
  {
   "cell_type": "code",
   "execution_count": 10,
   "id": "eeaf785f-af95-45dc-a7d7-cb0df200ae3d",
   "metadata": {},
   "outputs": [
    {
     "name": "stdin",
     "output_type": "stream",
     "text": [
      "n= 4\n"
     ]
    },
    {
     "name": "stdout",
     "output_type": "stream",
     "text": [
      "[2, 1.0, 0.5, 0.25]\n"
     ]
    }
   ],
   "source": [
    "#4\n",
    "A = 2\n",
    "D = 0.5\n",
    "n = int(input('n='))\n",
    "sonlar = [A]\n",
    "for i in range(2, n+1):\n",
    "    sonlar.append(A*(D**(i-1)))\n",
    "print(sonlar)"
   ]
  },
  {
   "cell_type": "code",
   "execution_count": 18,
   "id": "f1334ee0-e0ca-483f-9a42-a538b6d576fa",
   "metadata": {},
   "outputs": [
    {
     "name": "stdin",
     "output_type": "stream",
     "text": [
      "n= 14\n"
     ]
    },
    {
     "name": "stdout",
     "output_type": "stream",
     "text": [
      "[1, 1, 2, 3, 5, 8, 13, 21, 34, 55, 89, 144, 233, 377]\n"
     ]
    }
   ],
   "source": [
    "#5\n",
    "f0 = 1\n",
    "f1 = 1\n",
    "n = int(input('n='))\n",
    "sonlar = [f0, f1]\n",
    "for i in range(3, n+1):\n",
    "    fn = f0+f1\n",
    "    f1, f0 = fn, f1\n",
    "    sonlar.append(f1)\n",
    "print(sonlar)"
   ]
  },
  {
   "cell_type": "code",
   "execution_count": 29,
   "id": "9999afd0-bd56-492a-a1a8-11470a3d7da6",
   "metadata": {},
   "outputs": [
    {
     "name": "stdin",
     "output_type": "stream",
     "text": [
      "n= 5\n"
     ]
    },
    {
     "name": "stdout",
     "output_type": "stream",
     "text": [
      "[1, 2, 3, 6, 12]\n"
     ]
    }
   ],
   "source": [
    "#6\n",
    "A = 1\n",
    "B = 2\n",
    "n = int(input('n='))\n",
    "a = [A, B]\n",
    "\n",
    "for i in range(2, n):\n",
    "    s=0\n",
    "    for j in range(i):\n",
    "        s += a[j]\n",
    "    a.append(s)\n",
    "print(a)"
   ]
  },
  {
   "cell_type": "code",
   "execution_count": 32,
   "id": "71f1d7a7-69d5-4fbc-a077-085116a8f683",
   "metadata": {},
   "outputs": [
    {
     "name": "stdin",
     "output_type": "stream",
     "text": [
      "n= 5\n",
      "0-son  1\n",
      "1-son  0\n",
      "2-son  8\n",
      "3-son  2\n",
      "4-son  4\n"
     ]
    },
    {
     "name": "stdout",
     "output_type": "stream",
     "text": [
      "[4, 2, 8, 0, 1]\n"
     ]
    }
   ],
   "source": [
    "#7\n",
    "n = int(input('n='))\n",
    "massiv = []\n",
    "for i in range(n):\n",
    "    a = int(input(f\"{i}-son \"))\n",
    "    massiv.append(a)\n",
    "massiv.reverse()\n",
    "print(massiv)"
   ]
  },
  {
   "cell_type": "code",
   "execution_count": 37,
   "id": "0990978d-87b2-4a8d-82e8-9a7f77b9cc40",
   "metadata": {},
   "outputs": [
    {
     "name": "stdin",
     "output_type": "stream",
     "text": [
      "n= 5\n",
      "0-son  1\n",
      "1-son  9\n",
      "2-son  4\n",
      "3-son  5\n",
      "4-son  6\n"
     ]
    },
    {
     "name": "stdout",
     "output_type": "stream",
     "text": [
      "[1, 5, 9]\n",
      "soni 3\n"
     ]
    }
   ],
   "source": [
    "#8\n",
    "n = int(input('n='))\n",
    "massiv = []\n",
    "natija = []\n",
    "for i in range(n):\n",
    "    a = int(input(f\"{i}-son \"))\n",
    "    massiv.append(a)\n",
    "for j in massiv:\n",
    "    if j%2==1:\n",
    "      natija.append(j) \n",
    "natija.sort()\n",
    "print(natija)\n",
    "print('soni', len(natija))"
   ]
  },
  {
   "cell_type": "code",
   "execution_count": 36,
   "id": "66739fe5-8cc2-461f-9c41-2110c475a08f",
   "metadata": {},
   "outputs": [
    {
     "name": "stdin",
     "output_type": "stream",
     "text": [
      "n= 8\n",
      "0-son  10\n",
      "1-son  8\n",
      "2-son  45\n",
      "3-son  9\n",
      "4-son  55\n",
      "5-son  56\n",
      "6-son  2\n",
      "7-son  7\n"
     ]
    },
    {
     "name": "stdout",
     "output_type": "stream",
     "text": [
      "[56, 10, 8, 2]\n",
      "soni 4\n"
     ]
    }
   ],
   "source": [
    "#9\n",
    "n = int(input('n='))\n",
    "massiv = []\n",
    "natija = []\n",
    "for i in range(n):\n",
    "    a = int(input(f\"{i}-son \"))\n",
    "    massiv.append(a)\n",
    "for j in massiv:\n",
    "    if j%2==0:\n",
    "      natija.append(j) \n",
    "natija.sort()\n",
    "natija.reverse()\n",
    "print(natija)\n",
    "print('soni', len(natija))"
   ]
  },
  {
   "cell_type": "code",
   "execution_count": 45,
   "id": "40ac8f17-ca73-4d17-a1b3-9a5eeecbfeae",
   "metadata": {},
   "outputs": [
    {
     "name": "stdin",
     "output_type": "stream",
     "text": [
      "n= 8\n",
      "0-son  7\n",
      "1-son  2\n",
      "2-son  1\n",
      "3-son  46\n",
      "4-son  47\n",
      "5-son  1\n",
      "6-son  2\n",
      "7-son  0\n"
     ]
    },
    {
     "name": "stdout",
     "output_type": "stream",
     "text": [
      "[0, 2, 2, 46, 47, 7, 1, 1]\n"
     ]
    }
   ],
   "source": [
    "#10\n",
    "n = int(input('n='))\n",
    "massiv = []\n",
    "juft = []\n",
    "toq = []\n",
    "for i in range(n):\n",
    "    a = int(input(f\"{i}-son \"))\n",
    "    massiv.append(a)\n",
    "for j in massiv:\n",
    "    if j%2==0:\n",
    "      juft.append(j) \n",
    "    else:\n",
    "        toq.append(j)\n",
    "juft.sort()\n",
    "toq.sort()\n",
    "toq.reverse()\n",
    "for son in toq:\n",
    "    juft.append(son)\n",
    "print(juft)"
   ]
  },
  {
   "cell_type": "code",
   "execution_count": null,
   "id": "93f617d2-0bfc-4808-a0c6-5d57e9ef96b3",
   "metadata": {},
   "outputs": [],
   "source": []
  }
 ],
 "metadata": {
  "kernelspec": {
   "display_name": "Python 3 (ipykernel)",
   "language": "python",
   "name": "python3"
  },
  "language_info": {
   "codemirror_mode": {
    "name": "ipython",
    "version": 3
   },
   "file_extension": ".py",
   "mimetype": "text/x-python",
   "name": "python",
   "nbconvert_exporter": "python",
   "pygments_lexer": "ipython3",
   "version": "3.12.1"
  }
 },
 "nbformat": 4,
 "nbformat_minor": 5
}
