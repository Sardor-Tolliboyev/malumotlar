{
 "cells": [
  {
   "cell_type": "markdown",
   "id": "1d76a069-d47b-4a36-aea1-b4df5debf71a",
   "metadata": {},
   "source": [
    "# Virtualizatsiya"
   ]
  },
  {
   "cell_type": "markdown",
   "id": "11f55b2b-525c-4dce-8903-62dfcf9c03e5",
   "metadata": {},
   "source": [
    "## Virtualizatsiya nima?"
   ]
  },
  {
   "cell_type": "markdown",
   "id": "cdcf408f-03f5-47a6-87b9-639bb5c528f0",
   "metadata": {},
   "source": [
    "Bu bitta jismoniy kompyuterni bir nechta alohida mustaqil virtual kompyuterlarga (VM) bo'lish texnalogiyasi"
   ]
  },
  {
   "cell_type": "markdown",
   "id": "9300e75b-a4f6-447f-9fcb-ed47e5b0b03b",
   "metadata": {},
   "source": [
    "## Nima uchun ishlatiladi?"
   ]
  },
  {
   "cell_type": "markdown",
   "id": "36a3902c-cb80-4520-a9f7-2db5781d8010",
   "metadata": {},
   "source": [
    "    Resurslarni tejash: Bitta kuchli serverdan foydalanish\n",
    "    Izolatsiya: Agar VM ishdan chiqsa boshqa VMlarga ta'sir qilmaydi\n",
    "    Turli operatsion tizimlarni ishga tushirish. Bitta jismoniy kompyuterlarda ham Windows, ham Linux, ham boshqa operatsion tizmlarni bir vaqtni o'zida ishlatish\n",
    "    Eski dasturlarni ishlatish. Testlash uchun"
   ]
  },
  {
   "cell_type": "markdown",
   "id": "a54aa8e7-a517-483c-872e-14735d374d4c",
   "metadata": {},
   "source": [
    "## Qanday ishlatiladi?"
   ]
  },
  {
   "cell_type": "markdown",
   "id": "0b5c78ff-35e6-4c22-865f-e8e9acdc214e",
   "metadata": {},
   "source": [
    "Virtualizatsiya Hypervisar deb nomlangan maxsus dastur yordamida ishlaydi."
   ]
  },
  {
   "cell_type": "markdown",
   "id": "53089624-7b4f-4903-8d19-d0e3b30d442b",
   "metadata": {},
   "source": [
    "# Konteynerizatsiya"
   ]
  },
  {
   "cell_type": "markdown",
   "id": "6fec3402-1ac1-4c54-87d8-eef55e239f5e",
   "metadata": {},
   "source": [
    "## Konteynerizatsiya nima?"
   ]
  },
  {
   "cell_type": "markdown",
   "id": "9f0954e0-3d07-4f81-9a4c-89782d13504a",
   "metadata": {},
   "source": [
    "Bu dasturni uning barcha bog'liqliklari bilan birga yagona, yengil va mustaqil konteyner ichiga joylashtirish texnalogiyasi"
   ]
  },
  {
   "cell_type": "markdown",
   "id": "1cfa05c6-e983-4422-a068-27be2df65fa4",
   "metadata": {},
   "source": [
    "## Nima uchun ishlatiladi?"
   ]
  },
  {
   "cell_type": "markdown",
   "id": "c20d8ed3-6b5c-4619-a013-92dcd95692d9",
   "metadata": {},
   "source": [
    "    Tezlik; konteynerlar juda tez ishga tushadi\n",
    "    Yengillik; VMlarga nisbatan kamroq resurs talab qiladi\n",
    "    Postativlik; Mikroservislar arxitekturasi; Tez rivojlanish va joylashtirish"
   ]
  },
  {
   "cell_type": "markdown",
   "id": "d6140d04-1fcf-4710-a2fc-15f7b55fe336",
   "metadata": {},
   "source": [
    "## Qanday ishlatiladi?"
   ]
  },
  {
   "cell_type": "markdown",
   "id": "045daf1b-795c-490d-bd29-ca72fb0d67c7",
   "metadata": {},
   "source": [
    "Konteynerizatsiya Docker kabi vositalar yordamida ishlatiladi. Docker asosiy operatsion tizmnig yadrosini konteynerlar o'rtasida baham ko'radi"
   ]
  }
 ],
 "metadata": {
  "kernelspec": {
   "display_name": "Python 3 (ipykernel)",
   "language": "python",
   "name": "python3"
  },
  "language_info": {
   "codemirror_mode": {
    "name": "ipython",
    "version": 3
   },
   "file_extension": ".py",
   "mimetype": "text/x-python",
   "name": "python",
   "nbconvert_exporter": "python",
   "pygments_lexer": "ipython3",
   "version": "3.12.1"
  }
 },
 "nbformat": 4,
 "nbformat_minor": 5
}
