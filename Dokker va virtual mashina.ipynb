{
 "cells": [
  {
   "cell_type": "markdown",
   "id": "1223f31d-8e7b-439f-8d33-d2235756d7cd",
   "metadata": {},
   "source": [
    "# Dokker va virtual mashina"
   ]
  },
  {
   "cell_type": "markdown",
   "id": "edaabff5-1452-48bc-bd1e-8c3105210320",
   "metadata": {},
   "source": [
    "## Dokker nima?"
   ]
  },
  {
   "cell_type": "markdown",
   "id": "2dffe726-5362-47ec-889e-e750e86a1872",
   "metadata": {},
   "source": [
    "U dasturingizning barcha kerakli qismlari bilan birga \"konteyner\" deb ataladigan yagona izolatsiyalangan va yengil \"quti\" ichiga joylashtiradi. Bu konteynerlar har qanday joyda bir xil tarzda ishlashni ta'minlaydi"
   ]
  },
  {
   "cell_type": "markdown",
   "id": "dd4f2833-4cdd-40cb-a87c-3ddcf0d37588",
   "metadata": {},
   "source": [
    "## Nima uchun ishlatiladi?"
   ]
  },
  {
   "cell_type": "markdown",
   "id": "4bcecb52-8e39-4b4d-af62-e1c1b7e38428",
   "metadata": {},
   "source": [
    "Dasturingiz qaysi muhitda bo'lishidan qat'iy nazar, bir xil ishlashga kafolat beradi\n",
    "Portatvlik; Barqarorlik; Yengillik; Tezlik; Rerslardan samarali foydalanish;\n",
    "Katta dasturni kichik qismlarga bo'lish va har bir tizm alohida konteynerlarda ishga tushirish uchun qulay"
   ]
  },
  {
   "cell_type": "markdown",
   "id": "d25bf71a-e54d-4cb5-a929-8a3a050515e8",
   "metadata": {},
   "source": [
    "## Qanday ishlatiladi(Turlari bo'yicha)?"
   ]
  },
  {
   "cell_type": "markdown",
   "id": "80799afd-5920-4058-aded-e7c24e49a464",
   "metadata": {},
   "source": [
    "1. Dockerfile(Dokker fayl)\n",
    "   Bu matnli fayl bo'lib, unda sizning dasturingiz uchun konteyner qanday yaratilishi kerakligini haqidagi ko'rsatmalar yoziladi\n",
    "2. Docker Image(Dokker tasvir)\n",
    "   Bu dasturingiz va uning barcha kerakli narsalari bilan birga to'plangan faqat o'qish uchun mo'ljallangan loyiha chizmasi. Ulardan bir xil konteynerlarni ko'p marotaba yaratish mumkin\n",
    "3. Docker Container(Dokker konteyner)\n",
    "   Bu Docker Imagening ishga tushirilgan, jonli nusxasi\n",
    "4. Docker Engine(Dokker dvigateli)\n",
    "   Bu dokkerning asosiy dasturiy taminoti bo'lib, u sizning komyuteringizda yoki serverda ishlaydi. U konteynerlarni yaratish ishga tushirish, boshqarish va to'xtatish uchun javobgar\n",
    "5. Docker Hub(Dokker Xab)\n",
    "   Bu bulutga asoslangan omborxona bo'lib, u yerda odamlar o'zlari yaratgan Docker Imagelarini saqlaydi va boshqalar bilan baham ko'rishadi"
   ]
  },
  {
   "cell_type": "markdown",
   "id": "b0e61fc6-f5e5-468f-aeca-167515b1fae3",
   "metadata": {},
   "source": [
    "## Virtual mashina nima?"
   ]
  },
  {
   "cell_type": "markdown",
   "id": "e5cc5889-4752-48dd-88d2-6af8b5480177",
   "metadata": {},
   "source": [
    "Virtual mashina - bu jismoniy kompyuterning ichida dasturiy ta'minot yordamida yaratilgan \"virtual kompyuter\""
   ]
  },
  {
   "cell_type": "markdown",
   "id": "1d274a4b-3819-436e-a86c-c7c46c0fe681",
   "metadata": {},
   "source": [
    "## Nima uchun ishlatiladi?"
   ]
  },
  {
   "cell_type": "markdown",
   "id": "854acb9d-eff2-424a-9487-f873566533e2",
   "metadata": {},
   "source": [
    "Resurslarni tejash  bitta kuchli serverdan maksimal foydalanish.\n",
    "\n",
    "Turli operatsion tizmlarni ishlatish\n",
    "\n",
    "Izolatsiya; Dasturlarni sinash(Testlash); \n",
    "\n",
    "Dasturlash: Dasturchilar turli muhitlarda dasturlarini ishlab chiqarish va sinab ko'rishlari mumkin\n",
    "\n",
    "Zaxira nusxalash; Kiberxavfsizlik"
   ]
  },
  {
   "cell_type": "markdown",
   "id": "7c06a8fe-da7d-4658-baf2-e4f689867e6b",
   "metadata": {},
   "source": [
    "## Qanday ishlatiladi?"
   ]
  },
  {
   "cell_type": "markdown",
   "id": "c7e43d70-fbb7-4ada-bbc4-dc98d6258e04",
   "metadata": {},
   "source": [
    "Virtual mashinalar Hypervisor deb nomlangan maxsus dastur yordamida ishlaydi\n",
    "\n",
    "Hypervisor nima?\n",
    "    Bu dasturiy taminot sizning jismoniy kompyuteringiz va virtual mashinalar o'rtasidagi 'vositachi' bo'lib xizmat qiladi"
   ]
  },
  {
   "cell_type": "markdown",
   "id": "fc15468a-9f76-4215-ae0d-0d91130d8dd7",
   "metadata": {},
   "source": [
    "### Ishlash jarayoni"
   ]
  },
  {
   "cell_type": "markdown",
   "id": "f81a90d2-1765-4bf5-bd96-c2a22a095519",
   "metadata": {},
   "source": [
    "1. Siz jismoniy kompyuterga Hypervisor dasturini o'rnatasiz\n",
    "2. Hypervisor yordamida yangi virtual mashina yaratasiz\n",
    "3. Yangi virtual mashina xuddi haqiqiy kompyuterga o'xshab operatsion tizm o'rnatasiz\n",
    "4. Endi siz virtual mashina ichida xohlagan dasturlarni o'rnatib ishlatishingiz mumkin"
   ]
  },
  {
   "cell_type": "markdown",
   "id": "e11a3566-573a-4b61-963c-a0814afdd21f",
   "metadata": {},
   "source": [
    "Misollar (eng ko'p ishlatiladigan VM dasturlari):\n",
    "\n",
    "1. VMware Workstation Player: Windows va Linux tizimlarida bir nechta operatsion tizimlarni ishga tushirish uchun keng tarqalgan dastur.\n",
    "2. Parallels Desktop: Mac kompyuterlarida Windows yoki boshqa operatsion tizimlarni qayta yuklamasdan ishga tushirish uchun mashhur.\n",
    "3. Oracle VirtualBox: Bepul va ochiq kodli dastur bo'lib, har qanday operatsion tizimda VM yaratish va boshqarish imkonini beradi.\n",
    "4. Citrix Hypervisor: Katta korxonalar uchun mo'ljallangan, kuchli virtualizatsiya platformasi.\n",
    "5. Red Hat Virtualization: Ochiq kodli platforma bo'lib, Linux va Windows VM'larini boshqarish uchun ishlatiladi."
   ]
  }
 ],
 "metadata": {
  "kernelspec": {
   "display_name": "Python 3 (ipykernel)",
   "language": "python",
   "name": "python3"
  },
  "language_info": {
   "codemirror_mode": {
    "name": "ipython",
    "version": 3
   },
   "file_extension": ".py",
   "mimetype": "text/x-python",
   "name": "python",
   "nbconvert_exporter": "python",
   "pygments_lexer": "ipython3",
   "version": "3.12.1"
  }
 },
 "nbformat": 4,
 "nbformat_minor": 5
}
